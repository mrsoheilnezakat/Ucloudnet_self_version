{
 "cells": [
  {
   "cell_type": "code",
   "execution_count": null,
   "id": "9dc4f7f5",
   "metadata": {},
   "outputs": [],
   "source": [
    "from models.ucloudnet import UCloudNet\n",
    "\n",
    "model = UCloudNet()\n",
    "print(model)"
   ]
  }
 ],
 "metadata": {
  "language_info": {
   "name": "python"
  }
 },
 "nbformat": 4,
 "nbformat_minor": 5
}
